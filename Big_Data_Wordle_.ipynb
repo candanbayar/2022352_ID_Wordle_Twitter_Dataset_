{
  "nbformat": 4,
  "nbformat_minor": 0,
  "metadata": {
    "colab": {
      "provenance": [],
      "authorship_tag": "ABX9TyPG2mzeiuE7RY/bfx7A/Y9l",
      "include_colab_link": true
    },
    "kernelspec": {
      "name": "python3",
      "display_name": "Python 3"
    },
    "language_info": {
      "name": "python"
    }
  },
  "cells": [
    {
      "cell_type": "markdown",
      "metadata": {
        "id": "view-in-github",
        "colab_type": "text"
      },
      "source": [
        "<a href=\"https://colab.research.google.com/github/candanbayar/2022352_ID_Wordle_Twitter_Dataset_/blob/main/Big_Data_Wordle_.ipynb\" target=\"_parent\"><img src=\"https://colab.research.google.com/assets/colab-badge.svg\" alt=\"Open In Colab\"/></a>"
      ]
    },
    {
      "cell_type": "markdown",
      "source": [
        "# Install Packages"
      ],
      "metadata": {
        "id": "Az26x8bWu8nh"
      }
    },
    {
      "cell_type": "code",
      "execution_count": 1,
      "metadata": {
        "colab": {
          "base_uri": "https://localhost:8080/"
        },
        "id": "y9YTzdpQuLRH",
        "outputId": "768f5f5c-9fae-44c8-8ec1-3c5de849b403"
      },
      "outputs": [
        {
          "output_type": "stream",
          "name": "stdout",
          "text": [
            "Looking in indexes: https://pypi.org/simple, https://us-python.pkg.dev/colab-wheels/public/simple/\n",
            "Collecting pyspark\n",
            "  Downloading pyspark-3.4.0.tar.gz (310.8 MB)\n",
            "\u001b[2K     \u001b[90m━━━━━━━━━━━━━━━━━━━━━━━━━━━━━━━━━━━━━━━\u001b[0m \u001b[32m310.8/310.8 MB\u001b[0m \u001b[31m2.8 MB/s\u001b[0m eta \u001b[36m0:00:00\u001b[0m\n",
            "\u001b[?25h  Preparing metadata (setup.py) ... \u001b[?25l\u001b[?25hdone\n",
            "Requirement already satisfied: py4j==0.10.9.7 in /usr/local/lib/python3.10/dist-packages (from pyspark) (0.10.9.7)\n",
            "Building wheels for collected packages: pyspark\n",
            "  Building wheel for pyspark (setup.py) ... \u001b[?25l\u001b[?25hdone\n",
            "  Created wheel for pyspark: filename=pyspark-3.4.0-py2.py3-none-any.whl size=311317130 sha256=1e7da31c477eb1b37450d6bc9edef8793776e73bcc442b1c8196ccfe7123db7f\n",
            "  Stored in directory: /root/.cache/pip/wheels/7b/1b/4b/3363a1d04368e7ff0d408e57ff57966fcdf00583774e761327\n",
            "Successfully built pyspark\n",
            "Installing collected packages: pyspark\n",
            "Successfully installed pyspark-3.4.0\n"
          ]
        }
      ],
      "source": [
        "# pyspark \n",
        "\n",
        "!pip install pyspark"
      ]
    },
    {
      "cell_type": "code",
      "source": [
        "!pip install -U textblob"
      ],
      "metadata": {
        "colab": {
          "base_uri": "https://localhost:8080/"
        },
        "id": "BfUxLmBzuoC6",
        "outputId": "c0d7dfb4-85e3-4c88-d56d-a981122e8713"
      },
      "execution_count": 2,
      "outputs": [
        {
          "output_type": "stream",
          "name": "stdout",
          "text": [
            "Looking in indexes: https://pypi.org/simple, https://us-python.pkg.dev/colab-wheels/public/simple/\n",
            "Requirement already satisfied: textblob in /usr/local/lib/python3.10/dist-packages (0.17.1)\n",
            "Requirement already satisfied: nltk>=3.1 in /usr/local/lib/python3.10/dist-packages (from textblob) (3.8.1)\n",
            "Requirement already satisfied: click in /usr/local/lib/python3.10/dist-packages (from nltk>=3.1->textblob) (8.1.3)\n",
            "Requirement already satisfied: joblib in /usr/local/lib/python3.10/dist-packages (from nltk>=3.1->textblob) (1.2.0)\n",
            "Requirement already satisfied: regex>=2021.8.3 in /usr/local/lib/python3.10/dist-packages (from nltk>=3.1->textblob) (2022.10.31)\n",
            "Requirement already satisfied: tqdm in /usr/local/lib/python3.10/dist-packages (from nltk>=3.1->textblob) (4.65.0)\n"
          ]
        }
      ]
    },
    {
      "cell_type": "markdown",
      "source": [
        "# Import Libraries"
      ],
      "metadata": {
        "id": "neRRcMVrvFq1"
      }
    },
    {
      "cell_type": "code",
      "source": [
        "import numpy as np \n",
        "import pandas as pd \n",
        "import seaborn as sns \n",
        "import matplotlib.pyplot as plt   \n",
        "from itertools import cycle\n",
        "import re \n",
        "\n",
        "# import libraries about NLP \n",
        "import warnings\n",
        "warnings.simplefilter(\"ignore\")\n",
        "\n",
        "import re\n",
        "import numpy as np \n",
        "import pandas as pd\n",
        "import matplotlib\n",
        "import seaborn as sns\n",
        "import matplotlib.pyplot as plt\n",
        "%matplotlib inline\n",
        "plt.style.use('seaborn')\n",
        "\n",
        "import gensim  \n",
        "import nltk \n",
        "from nltk.sentiment import SentimentIntensityAnalyzer \n",
        "from textblob import TextBlob \n",
        "from wordcloud import WordCloud, STOPWORDS \n",
        "\n",
        "from nltk.stem import WordNetLemmatizer\n",
        "from nltk.stem import LancasterStemmer\n",
        "from nltk.tokenize.treebank import TreebankWordDetokenizer\n",
        "\n",
        "import tensorflow as tf\n",
        "import plotly.express as px \n",
        "\n",
        "# Modelling \n",
        "from statsmodels.tsa.seasonal import seasonal_decompose\n",
        "from statsmodels.tsa.arima.model import ARIMA\n",
        "\n",
        "# import keras \n",
        "\n",
        "from keras.models import Sequential\n",
        "from keras import layers\n",
        "from keras.optimizers import RMSprop,Adam\n",
        "from keras.preprocessing.text import Tokenizer\n",
        "from tensorflow.keras.utils import pad_sequences\n",
        "from keras import regularizers\n",
        "from keras import backend as K\n",
        "from keras.callbacks import ModelCheckpoint"
      ],
      "metadata": {
        "id": "r2zXuPBVu7vM"
      },
      "execution_count": 3,
      "outputs": []
    },
    {
      "cell_type": "code",
      "source": [
        "# import pyspark\n",
        "\n",
        "from pyspark.sql import SparkSession"
      ],
      "metadata": {
        "id": "IaVMt7_RvH52"
      },
      "execution_count": 4,
      "outputs": []
    },
    {
      "cell_type": "code",
      "source": [
        "# create variable called spark \n",
        "\n",
        "spark = SparkSession.builder.appName('wordle_tweet').getOrCreate()"
      ],
      "metadata": {
        "id": "a_t3r81gvMfZ"
      },
      "execution_count": 5,
      "outputs": []
    },
    {
      "cell_type": "code",
      "source": [
        "# spark \n",
        "\n",
        "spark"
      ],
      "metadata": {
        "colab": {
          "base_uri": "https://localhost:8080/",
          "height": 219
        },
        "id": "RuPnZAIPvOko",
        "outputId": "3df8c305-e501-4100-d46b-42d9db50b7cf"
      },
      "execution_count": 6,
      "outputs": [
        {
          "output_type": "execute_result",
          "data": {
            "text/plain": [
              "<pyspark.sql.session.SparkSession at 0x7ff91a29bac0>"
            ],
            "text/html": [
              "\n",
              "            <div>\n",
              "                <p><b>SparkSession - in-memory</b></p>\n",
              "                \n",
              "        <div>\n",
              "            <p><b>SparkContext</b></p>\n",
              "\n",
              "            <p><a href=\"http://96ab0bca5688:4040\">Spark UI</a></p>\n",
              "\n",
              "            <dl>\n",
              "              <dt>Version</dt>\n",
              "                <dd><code>v3.4.0</code></dd>\n",
              "              <dt>Master</dt>\n",
              "                <dd><code>local[*]</code></dd>\n",
              "              <dt>AppName</dt>\n",
              "                <dd><code>wordle_tweet</code></dd>\n",
              "            </dl>\n",
              "        </div>\n",
              "        \n",
              "            </div>\n",
              "        "
            ]
          },
          "metadata": {},
          "execution_count": 6
        }
      ]
    },
    {
      "cell_type": "code",
      "source": [
        "tw = spark.read.csv(\"tweets_wordle.csv\")"
      ],
      "metadata": {
        "id": "TMgNkIm1vRtn"
      },
      "execution_count": 7,
      "outputs": []
    },
    {
      "cell_type": "code",
      "source": [
        "tw"
      ],
      "metadata": {
        "colab": {
          "base_uri": "https://localhost:8080/"
        },
        "id": "mOQkWOk8UbuC",
        "outputId": "1b2ce3f3-9797-4c62-f6e1-b030222bf3f6"
      },
      "execution_count": 8,
      "outputs": [
        {
          "output_type": "execute_result",
          "data": {
            "text/plain": [
              "DataFrame[_c0: string, _c1: string, _c2: string, _c3: string, _c4: string]"
            ]
          },
          "metadata": {},
          "execution_count": 8
        }
      ]
    },
    {
      "cell_type": "code",
      "source": [
        "# read the dataset \n",
        "\n",
        "spark.read.option('header','true').csv('tweets_wordle.csv').show()"
      ],
      "metadata": {
        "colab": {
          "base_uri": "https://localhost:8080/"
        },
        "id": "TkwWpjTyUbk6",
        "outputId": "43d7b398-8e90-4b0a-866b-c9aa28a50c3e"
      },
      "execution_count": 9,
      "outputs": [
        {
          "output_type": "stream",
          "name": "stdout",
          "text": [
            "+-----------+-------------------+--------------------+--------------+--------------+\n",
            "|  wordle_id|           tweet_id|          tweet_date|tweet_username|    tweet_text|\n",
            "+-----------+-------------------+--------------------+--------------+--------------+\n",
            "|        210|1482553374591660037|2022-01-16 03:20:...|      bpszebes|Wordle 210 4/6|\n",
            "|    ⬛⬛🟨🟨⬛|               null|                null|          null|          null|\n",
            "|     🟩⬛⬛⬛⬛|               null|                null|          null|          null|\n",
            "|   🟩🟩🟨⬛⬛|               null|                null|          null|          null|\n",
            "|🟩🟩🟩🟩🟩\"|               null|                null|          null|          null|\n",
            "|        210|1482553387937898499|2022-01-16 03:20:...|    cruisecoup|Wordle 210 4/6|\n",
            "|      ⬜⬜⬜⬜⬜|               null|                null|          null|          null|\n",
            "|  🟩🟩🟨🟨⬜|               null|                null|          null|          null|\n",
            "|  🟩🟩⬜🟩🟨|               null|                null|          null|          null|\n",
            "|🟩🟩🟩🟩🟩\"|               null|                null|          null|          null|\n",
            "|        210|1482553422276698113|2022-01-16 03:20:...|    DestroVega|Wordle 210 4/6|\n",
            "|     ⬜⬜⬜🟨⬜|               null|                null|          null|          null|\n",
            "|    ⬜🟩⬜🟨⬜|               null|                null|          null|          null|\n",
            "|    ⬜🟩⬜🟨⬜|               null|                null|          null|          null|\n",
            "|🟩🟩🟩🟩🟩\"|               null|                null|          null|          null|\n",
            "|        210|1482553436910628866|2022-01-16 03:20:...|   brenmardash|Wordle 210 3/6|\n",
            "|     ⬜⬜🟨⬜⬜|               null|                null|          null|          null|\n",
            "|    🟨🟨⬜⬜⬜|               null|                null|          null|          null|\n",
            "|🟩🟩🟩🟩🟩\"|               null|                null|          null|          null|\n",
            "|        210|1482553445726908420|2022-01-16 03:21:...|   KatieHowse2|Wordle 210 3/6|\n",
            "+-----------+-------------------+--------------------+--------------+--------------+\n",
            "only showing top 20 rows\n",
            "\n"
          ]
        }
      ]
    },
    {
      "cell_type": "code",
      "source": [
        "# type dataset \n",
        "type(tw)"
      ],
      "metadata": {
        "colab": {
          "base_uri": "https://localhost:8080/"
        },
        "id": "SQ4LpFPkUbaL",
        "outputId": "83f0fcda-e969-4ab7-baa2-5638a885abb5"
      },
      "execution_count": 10,
      "outputs": [
        {
          "output_type": "execute_result",
          "data": {
            "text/plain": [
              "pyspark.sql.dataframe.DataFrame"
            ]
          },
          "metadata": {},
          "execution_count": 10
        }
      ]
    },
    {
      "cell_type": "code",
      "source": [
        "# check the schema \n",
        "\n",
        "tw.printSchema()"
      ],
      "metadata": {
        "colab": {
          "base_uri": "https://localhost:8080/"
        },
        "id": "U5jaXemkUh1-",
        "outputId": "41696c6c-a266-48ee-c8b5-620e59b56f80"
      },
      "execution_count": 11,
      "outputs": [
        {
          "output_type": "stream",
          "name": "stdout",
          "text": [
            "root\n",
            " |-- _c0: string (nullable = true)\n",
            " |-- _c1: string (nullable = true)\n",
            " |-- _c2: string (nullable = true)\n",
            " |-- _c3: string (nullable = true)\n",
            " |-- _c4: string (nullable = true)\n",
            "\n"
          ]
        }
      ]
    },
    {
      "cell_type": "code",
      "source": [
        "# read dataset \n",
        "\n",
        "tw = pd.read_csv(\"tweets_wordle.csv\")"
      ],
      "metadata": {
        "id": "JlXcuAxOUktG"
      },
      "execution_count": 15,
      "outputs": []
    },
    {
      "cell_type": "code",
      "source": [
        "tw.dtypes"
      ],
      "metadata": {
        "colab": {
          "base_uri": "https://localhost:8080/"
        },
        "id": "hSNuZ5RnUmVi",
        "outputId": "5063c4c7-d8b0-479b-9f0a-a90465f67d42"
      },
      "execution_count": 16,
      "outputs": [
        {
          "output_type": "execute_result",
          "data": {
            "text/plain": [
              "wordle_id          int64\n",
              "tweet_id           int64\n",
              "tweet_date        object\n",
              "tweet_username    object\n",
              "tweet_text        object\n",
              "dtype: object"
            ]
          },
          "metadata": {},
          "execution_count": 16
        }
      ]
    },
    {
      "cell_type": "code",
      "source": [
        "tw.head()"
      ],
      "metadata": {
        "colab": {
          "base_uri": "https://localhost:8080/",
          "height": 206
        },
        "id": "8iEYfwkxUtyk",
        "outputId": "e2749fee-c649-46f3-daee-e402a1700da3"
      },
      "execution_count": 17,
      "outputs": [
        {
          "output_type": "execute_result",
          "data": {
            "text/plain": [
              "   wordle_id             tweet_id                 tweet_date tweet_username  \\\n",
              "0        210  1482553374591660037  2022-01-16 03:20:43+00:00       bpszebes   \n",
              "1        210  1482553387937898499  2022-01-16 03:20:46+00:00     cruisecoup   \n",
              "2        210  1482553422276698113  2022-01-16 03:20:55+00:00     DestroVega   \n",
              "3        210  1482553436910628866  2022-01-16 03:20:58+00:00    brenmardash   \n",
              "4        210  1482553445726908420  2022-01-16 03:21:00+00:00    KatieHowse2   \n",
              "\n",
              "                                     tweet_text  \n",
              "0  Wordle 210 4/6\\n\\n⬛⬛🟨🟨⬛\\n🟩⬛⬛⬛⬛\\n🟩🟩🟨⬛⬛\\n🟩🟩🟩🟩🟩  \n",
              "1  Wordle 210 4/6\\n\\n⬜⬜⬜⬜⬜\\n🟩🟩🟨🟨⬜\\n🟩🟩⬜🟩🟨\\n🟩🟩🟩🟩🟩  \n",
              "2  Wordle 210 4/6\\n\\n⬜⬜⬜🟨⬜\\n⬜🟩⬜🟨⬜\\n⬜🟩⬜🟨⬜\\n🟩🟩🟩🟩🟩  \n",
              "3         Wordle 210 3/6\\n\\n⬜⬜🟨⬜⬜\\n🟨🟨⬜⬜⬜\\n🟩🟩🟩🟩🟩  \n",
              "4         Wordle 210 3/6\\n\\n⬛⬛🟨⬛⬛\\n🟩🟩🟩⬛⬛\\n🟩🟩🟩🟩🟩  "
            ],
            "text/html": [
              "\n",
              "  <div id=\"df-d528c84b-9720-42d5-bce1-e3ebca3c9799\">\n",
              "    <div class=\"colab-df-container\">\n",
              "      <div>\n",
              "<style scoped>\n",
              "    .dataframe tbody tr th:only-of-type {\n",
              "        vertical-align: middle;\n",
              "    }\n",
              "\n",
              "    .dataframe tbody tr th {\n",
              "        vertical-align: top;\n",
              "    }\n",
              "\n",
              "    .dataframe thead th {\n",
              "        text-align: right;\n",
              "    }\n",
              "</style>\n",
              "<table border=\"1\" class=\"dataframe\">\n",
              "  <thead>\n",
              "    <tr style=\"text-align: right;\">\n",
              "      <th></th>\n",
              "      <th>wordle_id</th>\n",
              "      <th>tweet_id</th>\n",
              "      <th>tweet_date</th>\n",
              "      <th>tweet_username</th>\n",
              "      <th>tweet_text</th>\n",
              "    </tr>\n",
              "  </thead>\n",
              "  <tbody>\n",
              "    <tr>\n",
              "      <th>0</th>\n",
              "      <td>210</td>\n",
              "      <td>1482553374591660037</td>\n",
              "      <td>2022-01-16 03:20:43+00:00</td>\n",
              "      <td>bpszebes</td>\n",
              "      <td>Wordle 210 4/6\\n\\n⬛⬛🟨🟨⬛\\n🟩⬛⬛⬛⬛\\n🟩🟩🟨⬛⬛\\n🟩🟩🟩🟩🟩</td>\n",
              "    </tr>\n",
              "    <tr>\n",
              "      <th>1</th>\n",
              "      <td>210</td>\n",
              "      <td>1482553387937898499</td>\n",
              "      <td>2022-01-16 03:20:46+00:00</td>\n",
              "      <td>cruisecoup</td>\n",
              "      <td>Wordle 210 4/6\\n\\n⬜⬜⬜⬜⬜\\n🟩🟩🟨🟨⬜\\n🟩🟩⬜🟩🟨\\n🟩🟩🟩🟩🟩</td>\n",
              "    </tr>\n",
              "    <tr>\n",
              "      <th>2</th>\n",
              "      <td>210</td>\n",
              "      <td>1482553422276698113</td>\n",
              "      <td>2022-01-16 03:20:55+00:00</td>\n",
              "      <td>DestroVega</td>\n",
              "      <td>Wordle 210 4/6\\n\\n⬜⬜⬜🟨⬜\\n⬜🟩⬜🟨⬜\\n⬜🟩⬜🟨⬜\\n🟩🟩🟩🟩🟩</td>\n",
              "    </tr>\n",
              "    <tr>\n",
              "      <th>3</th>\n",
              "      <td>210</td>\n",
              "      <td>1482553436910628866</td>\n",
              "      <td>2022-01-16 03:20:58+00:00</td>\n",
              "      <td>brenmardash</td>\n",
              "      <td>Wordle 210 3/6\\n\\n⬜⬜🟨⬜⬜\\n🟨🟨⬜⬜⬜\\n🟩🟩🟩🟩🟩</td>\n",
              "    </tr>\n",
              "    <tr>\n",
              "      <th>4</th>\n",
              "      <td>210</td>\n",
              "      <td>1482553445726908420</td>\n",
              "      <td>2022-01-16 03:21:00+00:00</td>\n",
              "      <td>KatieHowse2</td>\n",
              "      <td>Wordle 210 3/6\\n\\n⬛⬛🟨⬛⬛\\n🟩🟩🟩⬛⬛\\n🟩🟩🟩🟩🟩</td>\n",
              "    </tr>\n",
              "  </tbody>\n",
              "</table>\n",
              "</div>\n",
              "      <button class=\"colab-df-convert\" onclick=\"convertToInteractive('df-d528c84b-9720-42d5-bce1-e3ebca3c9799')\"\n",
              "              title=\"Convert this dataframe to an interactive table.\"\n",
              "              style=\"display:none;\">\n",
              "        \n",
              "  <svg xmlns=\"http://www.w3.org/2000/svg\" height=\"24px\"viewBox=\"0 0 24 24\"\n",
              "       width=\"24px\">\n",
              "    <path d=\"M0 0h24v24H0V0z\" fill=\"none\"/>\n",
              "    <path d=\"M18.56 5.44l.94 2.06.94-2.06 2.06-.94-2.06-.94-.94-2.06-.94 2.06-2.06.94zm-11 1L8.5 8.5l.94-2.06 2.06-.94-2.06-.94L8.5 2.5l-.94 2.06-2.06.94zm10 10l.94 2.06.94-2.06 2.06-.94-2.06-.94-.94-2.06-.94 2.06-2.06.94z\"/><path d=\"M17.41 7.96l-1.37-1.37c-.4-.4-.92-.59-1.43-.59-.52 0-1.04.2-1.43.59L10.3 9.45l-7.72 7.72c-.78.78-.78 2.05 0 2.83L4 21.41c.39.39.9.59 1.41.59.51 0 1.02-.2 1.41-.59l7.78-7.78 2.81-2.81c.8-.78.8-2.07 0-2.86zM5.41 20L4 18.59l7.72-7.72 1.47 1.35L5.41 20z\"/>\n",
              "  </svg>\n",
              "      </button>\n",
              "      \n",
              "  <style>\n",
              "    .colab-df-container {\n",
              "      display:flex;\n",
              "      flex-wrap:wrap;\n",
              "      gap: 12px;\n",
              "    }\n",
              "\n",
              "    .colab-df-convert {\n",
              "      background-color: #E8F0FE;\n",
              "      border: none;\n",
              "      border-radius: 50%;\n",
              "      cursor: pointer;\n",
              "      display: none;\n",
              "      fill: #1967D2;\n",
              "      height: 32px;\n",
              "      padding: 0 0 0 0;\n",
              "      width: 32px;\n",
              "    }\n",
              "\n",
              "    .colab-df-convert:hover {\n",
              "      background-color: #E2EBFA;\n",
              "      box-shadow: 0px 1px 2px rgba(60, 64, 67, 0.3), 0px 1px 3px 1px rgba(60, 64, 67, 0.15);\n",
              "      fill: #174EA6;\n",
              "    }\n",
              "\n",
              "    [theme=dark] .colab-df-convert {\n",
              "      background-color: #3B4455;\n",
              "      fill: #D2E3FC;\n",
              "    }\n",
              "\n",
              "    [theme=dark] .colab-df-convert:hover {\n",
              "      background-color: #434B5C;\n",
              "      box-shadow: 0px 1px 3px 1px rgba(0, 0, 0, 0.15);\n",
              "      filter: drop-shadow(0px 1px 2px rgba(0, 0, 0, 0.3));\n",
              "      fill: #FFFFFF;\n",
              "    }\n",
              "  </style>\n",
              "\n",
              "      <script>\n",
              "        const buttonEl =\n",
              "          document.querySelector('#df-d528c84b-9720-42d5-bce1-e3ebca3c9799 button.colab-df-convert');\n",
              "        buttonEl.style.display =\n",
              "          google.colab.kernel.accessAllowed ? 'block' : 'none';\n",
              "\n",
              "        async function convertToInteractive(key) {\n",
              "          const element = document.querySelector('#df-d528c84b-9720-42d5-bce1-e3ebca3c9799');\n",
              "          const dataTable =\n",
              "            await google.colab.kernel.invokeFunction('convertToInteractive',\n",
              "                                                     [key], {});\n",
              "          if (!dataTable) return;\n",
              "\n",
              "          const docLinkHtml = 'Like what you see? Visit the ' +\n",
              "            '<a target=\"_blank\" href=https://colab.research.google.com/notebooks/data_table.ipynb>data table notebook</a>'\n",
              "            + ' to learn more about interactive tables.';\n",
              "          element.innerHTML = '';\n",
              "          dataTable['output_type'] = 'display_data';\n",
              "          await google.colab.output.renderOutput(dataTable, element);\n",
              "          const docLink = document.createElement('div');\n",
              "          docLink.innerHTML = docLinkHtml;\n",
              "          element.appendChild(docLink);\n",
              "        }\n",
              "      </script>\n",
              "    </div>\n",
              "  </div>\n",
              "  "
            ]
          },
          "metadata": {},
          "execution_count": 17
        }
      ]
    },
    {
      "cell_type": "code",
      "source": [],
      "metadata": {
        "id": "vXswbm99Uv1r"
      },
      "execution_count": null,
      "outputs": []
    }
  ]
}